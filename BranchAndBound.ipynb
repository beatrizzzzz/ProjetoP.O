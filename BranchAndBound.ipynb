{
 "cells": [
  {
   "cell_type": "code",
   "execution_count": 30,
   "id": "d4117277",
   "metadata": {},
   "outputs": [],
   "source": [
    "from mip import Model, xsum, BINARY, MAXIMIZE\n",
    "from queue import Queue\n",
    "\n",
    "def read(filename):\n",
    "    with open(filename, 'r') as file:\n",
    "        lista = file.readlines()\n",
    "        lista = [x.strip().split() for x in lista]  # Remova espaços em branco e quebre as linhas\n",
    "        lista = [[int(y) for y in x] for x in lista]\n",
    "        variaveis = lista[0][0]\n",
    "        num_restricoes = lista[0][1]  # Renomeado para evitar acentuação em variáveis\n",
    "        objetivo = lista[1]\n",
    "        restricoes = lista[2:]\n",
    "    return variaveis, num_restricoes, objetivo, restricoes\n",
    "\n",
    "def solve_relaxation(model, restricoes, objetivo, variaveis):\n",
    "    # Utiliza o modelo passado como parâmetro para não recriar um novo\n",
    "    model.objective = xsum(objetivo[i] * model.vars[i] for i in range(variaveis))\n",
    "\n",
    "    for data in restricoes:\n",
    "        model += xsum(data[i] * model.vars[i] for i in range(variaveis)) <= data[-1]\n",
    "\n",
    "    model.optimize()\n",
    "\n",
    "    if model.num_solutions:\n",
    "        return model.objective_value, [v.x for v in model.vars]\n",
    "    else:\n",
    "        return None, None\n",
    "\n",
    "# das variáveis não inteiras, qual é a que tem casa decimal mais próxima de 0.5\n",
    "def branch(model, solucao, epsilon=0.0001):\n",
    "\n",
    "    nao_binarias = [(i, abs(x - round(x))) for i, x in enumerate(solucao) if abs(x - round(x)) > epsilon]\n",
    "    if not nao_binarias:\n",
    "        return None\n",
    "\n",
    "  # mais perto de 0.5\n",
    "    nao_binarias.sort(key=lambda x: -abs(x[1] - 0.5))\n",
    "    branchV = nao_binarias[0][0]\n",
    "    return branchV\n",
    "\n",
    "def branch_and_bound(filename):\n",
    "    variaveis, num_restricoes, objetivo, restricoes = read(filename)\n",
    "\n",
    "    queue = Queue()\n",
    "    queue.put(([], {i: None for i in range(variaveis)}))  # Initial state\n",
    "\n",
    "    best_solution = None\n",
    "    best_objective = float('-inf')\n",
    "    \n",
    "    while not queue.empty():\n",
    "        \n",
    "        current_constraints, current_integrality = queue.get()\n",
    "        \n",
    "        m = Model(sense=MAXIMIZE)\n",
    "        m.vars = [m.add_var(var_type=BINARY) for i in range(variaveis)]\n",
    "        # Adiciona as restrições ao modelo\n",
    "        for (var, val) in current_constraints:\n",
    "            if val is not None:\n",
    "                m += m.vars[var] == val\n",
    "        \n",
    "        objective_value, solution = solve_relaxation(m, restricoes, objetivo, variaveis)\n",
    "        \n",
    "        \n",
    "\n",
    "        if objective_value is None or objective_value <= best_objective:\n",
    "            continue\n",
    "        \n",
    "        if all(isinstance(i, int) for i in solution):\n",
    "            best_solution = solution\n",
    "            best_objective = objective_value\n",
    "            continue\n",
    "        \n",
    "        branch_var = branch(m, solution)\n",
    "        if branch_var is not None:\n",
    "            for val in [0, 1]:\n",
    "                new_constraints = current_constraints + [(branch_var, val)]\n",
    "                new_integrality = current_integrality.copy()\n",
    "                new_integrality[branch_var] = val\n",
    "                queue.put((new_constraints, new_integrality))\n",
    "                \n",
    "        \n",
    "    return objective_value, solution\n",
    "\n"
   ]
  },
  {
   "cell_type": "code",
   "execution_count": 31,
   "id": "3f54e0bd",
   "metadata": {
    "scrolled": true
   },
   "outputs": [
    {
     "name": "stdout",
     "output_type": "stream",
     "text": [
      "Optimal value: 24.0\n",
      "Optimal solution: [0.0, 1.0, 0.0, 0.0, 0.0, 1.0, 1.0, 0.0, 0.0]\n"
     ]
    }
   ],
   "source": [
    "optimal_value, optimal_solution = branch_and_bound('teste2.txt')\n",
    "print(\"Optimal value:\", optimal_value)\n",
    "print(\"Optimal solution:\", optimal_solution)"
   ]
  },
  {
   "cell_type": "code",
   "execution_count": 32,
   "id": "b294f247",
   "metadata": {
    "scrolled": true
   },
   "outputs": [
    {
     "name": "stdout",
     "output_type": "stream",
     "text": [
      "Optimal value: 20.0\n",
      "Optimal solution: [0.0, 0.0, 0.0, 0.0, 1.0, 1.0, 0.0]\n"
     ]
    }
   ],
   "source": [
    "optimal_value, optimal_solution = branch_and_bound('teste1.txt')\n",
    "print(\"Optimal value:\", optimal_value)\n",
    "print(\"Optimal solution:\", optimal_solution)"
   ]
  },
  {
   "cell_type": "code",
   "execution_count": 33,
   "id": "43e9df42",
   "metadata": {},
   "outputs": [
    {
     "name": "stdout",
     "output_type": "stream",
     "text": [
      "Optimal value: 19.0\n",
      "Optimal solution: [0.0, 0.0, 1.0, 0.0, 0.0, 0.0, 1.0, 0.0, 0.0]\n"
     ]
    }
   ],
   "source": [
    "optimal_value, optimal_solution = branch_and_bound('teste3.txt')\n",
    "print(\"Optimal value:\", optimal_value)\n",
    "print(\"Optimal solution:\", optimal_solution)"
   ]
  },
  {
   "cell_type": "code",
   "execution_count": 34,
   "id": "fce946e9",
   "metadata": {},
   "outputs": [
    {
     "name": "stdout",
     "output_type": "stream",
     "text": [
      "Optimal value: 10.0\n",
      "Optimal solution: [0.0, 0.0, 1.0, 0.0, 0.0, 0.0, 0.0, 0.0, 0.0]\n"
     ]
    }
   ],
   "source": [
    "optimal_value, optimal_solution = branch_and_bound('teste4.txt')\n",
    "print(\"Optimal value:\", optimal_value)\n",
    "print(\"Optimal solution:\", optimal_solution)"
   ]
  },
  {
   "cell_type": "code",
   "execution_count": null,
   "id": "e34d4cd6",
   "metadata": {},
   "outputs": [],
   "source": []
  }
 ],
 "metadata": {
  "kernelspec": {
   "display_name": "Python 3",
   "language": "python",
   "name": "python3"
  },
  "language_info": {
   "codemirror_mode": {
    "name": "ipython",
    "version": 3
   },
   "file_extension": ".py",
   "mimetype": "text/x-python",
   "name": "python",
   "nbconvert_exporter": "python",
   "pygments_lexer": "ipython3",
   "version": "3.8.8"
  }
 },
 "nbformat": 4,
 "nbformat_minor": 5
}
